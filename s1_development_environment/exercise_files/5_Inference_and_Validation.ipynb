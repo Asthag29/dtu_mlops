{
 "cells": [
  {
   "cell_type": "markdown",
   "metadata": {},
   "source": [
    "# Inference and Validation\n",
    "\n",
    "Now that you have a trained network, you can use it for making predictions. This is typically called **inference**, a term borrowed from statistics. However, neural networks have a tendency to perform *too well* on the training data and aren't able to generalize to data that hasn't been seen before. This is called **overfitting** and it impairs inference performance. To test for overfitting while training, we measure the performance on data not in the training set called the **validation** set. We avoid overfitting through regularization such as dropout while monitoring the validation performance during training. In this notebook, I'll show you how to do this in PyTorch. \n",
    "\n",
    "As usual, let's start by loading the dataset through torchvision. You'll learn more about torchvision and loading data in a later part. This time we'll be taking advantage of the test set which you can get by setting `train=False` here:\n",
    "\n",
    "```python\n",
    "testset = datasets.FashionMNIST('~/.pytorch/F_MNIST_data/', download=True, train=False, transform=transform)\n",
    "```\n",
    "\n",
    "The test set contains images just like the training set. Typically you'll see 10-20% of the original dataset held out for testing and validation with the rest being used for training."
   ]
  },
  {
   "cell_type": "code",
   "execution_count": 2,
   "metadata": {},
   "outputs": [
    {
     "name": "stdout",
     "output_type": "stream",
     "text": [
      "938\n",
      "60000\n",
      "157\n",
      "10000\n"
     ]
    }
   ],
   "source": [
    "import torch\n",
    "from torchvision import datasets, transforms\n",
    "import matplotlib.pyplot as plt\n",
    "\n",
    "# Define a transform to normalize the data\n",
    "transform = transforms.Compose([transforms.ToTensor(), transforms.Normalize((0.5,), (0.5,))])\n",
    "# Download and load the training data\n",
    "trainset = datasets.FashionMNIST(\"~/.pytorch/F_MNIST_data/\", download=True, train=True, transform=transform)\n",
    "trainloader = torch.utils.data.DataLoader(trainset, batch_size=64, shuffle=True)\n",
    "print(len(trainloader))\n",
    "print(len(trainloader.dataset))\n",
    "# Download and load the test data\n",
    "testset = datasets.FashionMNIST(\"~/.pytorch/F_MNIST_data/\", download=True, train=False, transform=transform)\n",
    "testloader = torch.utils.data.DataLoader(testset, batch_size=64, shuffle=True)\n",
    "print(len(testloader))\n",
    "print(len(testloader.dataset))"
   ]
  },
  {
   "cell_type": "markdown",
   "metadata": {},
   "source": [
    "Here I'll create a model like normal, using the same one from my solution for part 4."
   ]
  },
  {
   "cell_type": "code",
   "execution_count": 3,
   "metadata": {},
   "outputs": [],
   "source": [
    "from torch import nn, optim\n",
    "from torch.nn.functional import log_softmax, relu\n",
    "\n",
    "\n",
    "class Classifier(nn.Module):\n",
    "    \"\"\"Classifier network with dropout.\"\"\"\n",
    "\n",
    "    def __init__(self) -> None:\n",
    "        super().__init__()\n",
    "        self.fc1 = nn.Linear(784, 256)\n",
    "        self.fc2 = nn.Linear(256, 128)\n",
    "        self.fc3 = nn.Linear(128, 64)\n",
    "        self.fc4 = nn.Linear(64, 10)\n",
    "        self.dropout = nn.Dropout(0.2)\n",
    "    def forward(self, x):\n",
    "        \"\"\"Forward pass through the network, returns the output logits.\"\"\"\n",
    "        # make sure input tensor is flattened\n",
    "        x = x.view(x.shape[0], -1)\n",
    "\n",
    "        x = self.dropout(relu(self.fc1(x)))\n",
    "        x = self.dropout(relu(self.fc2(x)))\n",
    "        x = self.dropout(relu(self.fc3(x)))\n",
    "        return log_softmax(self.fc4(x), dim=1)"
   ]
  },
  {
   "cell_type": "markdown",
   "metadata": {},
   "source": [
    "The goal of validation is to measure the model's performance on data that isn't part of the training set. Performance here is up to the developer to define though. Typically this is just accuracy, the percentage of classes the network predicted correctly. Other options are [precision and recall](https://en.wikipedia.org/wiki/Precision_and_recall#Definition_(classification_context)) and top-5 error rate. We'll focus on accuracy here. First I'll do a forward pass with one batch from the test set."
   ]
  },
  {
   "cell_type": "code",
   "execution_count": 4,
   "metadata": {},
   "outputs": [
    {
     "name": "stdout",
     "output_type": "stream",
     "text": [
      "torch.Size([64, 1, 28, 28]) torch.Size([64])\n",
      "tensor(2)\n",
      "tensor([[0.0951, 0.0979, 0.1119, 0.1164, 0.0961, 0.1022, 0.1012, 0.0849, 0.0990,\n",
      "         0.0953],\n",
      "        [0.1027, 0.0953, 0.1130, 0.1172, 0.0874, 0.1035, 0.1083, 0.0838, 0.0962,\n",
      "         0.0927],\n",
      "        [0.0989, 0.0902, 0.1156, 0.1203, 0.0942, 0.1029, 0.1043, 0.0836, 0.0962,\n",
      "         0.0938],\n",
      "        [0.1038, 0.0955, 0.1150, 0.1104, 0.0905, 0.1056, 0.1046, 0.0905, 0.0957,\n",
      "         0.0883],\n",
      "        [0.1010, 0.0961, 0.1190, 0.1136, 0.0919, 0.1050, 0.1015, 0.0867, 0.0931,\n",
      "         0.0921],\n",
      "        [0.0979, 0.0932, 0.1138, 0.1190, 0.0998, 0.1099, 0.0954, 0.0876, 0.0933,\n",
      "         0.0901],\n",
      "        [0.0996, 0.0975, 0.1119, 0.1234, 0.0954, 0.1022, 0.1007, 0.0858, 0.0893,\n",
      "         0.0942],\n",
      "        [0.0949, 0.1012, 0.1099, 0.1160, 0.0885, 0.1031, 0.1075, 0.0905, 0.0965,\n",
      "         0.0918],\n",
      "        [0.1013, 0.0991, 0.1101, 0.1132, 0.0943, 0.1032, 0.1025, 0.0867, 0.0969,\n",
      "         0.0926],\n",
      "        [0.1042, 0.0898, 0.1140, 0.1282, 0.0898, 0.0977, 0.1024, 0.0800, 0.1006,\n",
      "         0.0934],\n",
      "        [0.0993, 0.1007, 0.1185, 0.1160, 0.0885, 0.1091, 0.1020, 0.0862, 0.0927,\n",
      "         0.0871],\n",
      "        [0.1000, 0.0936, 0.1152, 0.1197, 0.0903, 0.1054, 0.1033, 0.0859, 0.0952,\n",
      "         0.0913],\n",
      "        [0.0976, 0.0957, 0.1132, 0.1218, 0.0916, 0.1029, 0.1088, 0.0849, 0.0945,\n",
      "         0.0890],\n",
      "        [0.1023, 0.0945, 0.1111, 0.1210, 0.0864, 0.1030, 0.1079, 0.0885, 0.0933,\n",
      "         0.0920],\n",
      "        [0.0992, 0.0913, 0.1136, 0.1210, 0.0911, 0.1061, 0.1027, 0.0884, 0.0945,\n",
      "         0.0921],\n",
      "        [0.1047, 0.0857, 0.1141, 0.1218, 0.0920, 0.1057, 0.1060, 0.0821, 0.0978,\n",
      "         0.0903],\n",
      "        [0.1021, 0.0886, 0.1182, 0.1294, 0.0890, 0.1032, 0.1047, 0.0917, 0.0905,\n",
      "         0.0825],\n",
      "        [0.1022, 0.0947, 0.1092, 0.1187, 0.0917, 0.1042, 0.1053, 0.0816, 0.0976,\n",
      "         0.0948],\n",
      "        [0.0970, 0.0921, 0.1127, 0.1200, 0.0936, 0.1094, 0.0982, 0.0851, 0.1009,\n",
      "         0.0910],\n",
      "        [0.1049, 0.0952, 0.1108, 0.1228, 0.0891, 0.1040, 0.1021, 0.0865, 0.0917,\n",
      "         0.0930],\n",
      "        [0.1033, 0.0973, 0.1100, 0.1229, 0.0847, 0.1012, 0.1081, 0.0890, 0.0899,\n",
      "         0.0935],\n",
      "        [0.1003, 0.0894, 0.1199, 0.1215, 0.0890, 0.1043, 0.1040, 0.0871, 0.0935,\n",
      "         0.0910],\n",
      "        [0.1029, 0.0911, 0.1155, 0.1148, 0.0888, 0.1043, 0.1070, 0.0873, 0.0986,\n",
      "         0.0897],\n",
      "        [0.0959, 0.0966, 0.1125, 0.1191, 0.0925, 0.1046, 0.1092, 0.0901, 0.0905,\n",
      "         0.0889],\n",
      "        [0.0951, 0.0962, 0.1113, 0.1142, 0.0940, 0.1084, 0.1034, 0.0865, 0.0965,\n",
      "         0.0943],\n",
      "        [0.1040, 0.0922, 0.1086, 0.1192, 0.0906, 0.0993, 0.1155, 0.0841, 0.0958,\n",
      "         0.0908],\n",
      "        [0.1066, 0.0832, 0.1138, 0.1211, 0.0943, 0.1023, 0.1053, 0.0809, 0.0994,\n",
      "         0.0932],\n",
      "        [0.1007, 0.0942, 0.1139, 0.1152, 0.0909, 0.1073, 0.1001, 0.0873, 0.0996,\n",
      "         0.0908],\n",
      "        [0.1062, 0.0896, 0.1117, 0.1219, 0.0923, 0.1029, 0.1045, 0.0864, 0.0952,\n",
      "         0.0894],\n",
      "        [0.1024, 0.0948, 0.1060, 0.1200, 0.0907, 0.1031, 0.1098, 0.0815, 0.0979,\n",
      "         0.0937],\n",
      "        [0.1032, 0.0969, 0.1095, 0.1217, 0.0885, 0.1023, 0.1061, 0.0867, 0.0936,\n",
      "         0.0915],\n",
      "        [0.1029, 0.0866, 0.1166, 0.1188, 0.0905, 0.1054, 0.1075, 0.0838, 0.0989,\n",
      "         0.0890],\n",
      "        [0.0986, 0.0900, 0.1145, 0.1212, 0.0945, 0.1067, 0.0977, 0.0839, 0.0996,\n",
      "         0.0934],\n",
      "        [0.1073, 0.0934, 0.1099, 0.1214, 0.0944, 0.1000, 0.1018, 0.0819, 0.0962,\n",
      "         0.0937],\n",
      "        [0.0995, 0.0973, 0.1108, 0.1239, 0.0923, 0.1047, 0.1032, 0.0828, 0.0946,\n",
      "         0.0910],\n",
      "        [0.1035, 0.0935, 0.1165, 0.1158, 0.0913, 0.1059, 0.1034, 0.0806, 0.0957,\n",
      "         0.0939],\n",
      "        [0.0982, 0.0918, 0.1193, 0.1191, 0.0936, 0.1097, 0.0986, 0.0870, 0.0951,\n",
      "         0.0875],\n",
      "        [0.1007, 0.0967, 0.1149, 0.1210, 0.0869, 0.1041, 0.1064, 0.0852, 0.0949,\n",
      "         0.0893],\n",
      "        [0.0927, 0.0997, 0.1136, 0.1188, 0.0935, 0.1005, 0.1081, 0.0909, 0.0940,\n",
      "         0.0881],\n",
      "        [0.0977, 0.0964, 0.1161, 0.1196, 0.0887, 0.1050, 0.1035, 0.0883, 0.0945,\n",
      "         0.0901],\n",
      "        [0.1055, 0.0890, 0.1164, 0.1239, 0.0896, 0.1006, 0.1039, 0.0853, 0.0954,\n",
      "         0.0903],\n",
      "        [0.1002, 0.0890, 0.1134, 0.1292, 0.0927, 0.1030, 0.1067, 0.0763, 0.0955,\n",
      "         0.0941],\n",
      "        [0.1019, 0.0918, 0.1074, 0.1203, 0.0919, 0.1062, 0.1087, 0.0864, 0.0972,\n",
      "         0.0881],\n",
      "        [0.1004, 0.1006, 0.1164, 0.1162, 0.0902, 0.1114, 0.0977, 0.0847, 0.0908,\n",
      "         0.0917],\n",
      "        [0.1062, 0.0963, 0.1167, 0.1206, 0.0878, 0.1041, 0.1030, 0.0878, 0.0917,\n",
      "         0.0856],\n",
      "        [0.0994, 0.0952, 0.1155, 0.1207, 0.0910, 0.0964, 0.1116, 0.0925, 0.0910,\n",
      "         0.0866],\n",
      "        [0.1024, 0.0968, 0.1123, 0.1159, 0.0920, 0.1057, 0.1025, 0.0851, 0.0968,\n",
      "         0.0905],\n",
      "        [0.0998, 0.1009, 0.1087, 0.1242, 0.0871, 0.0960, 0.1109, 0.0987, 0.0904,\n",
      "         0.0832],\n",
      "        [0.1010, 0.0964, 0.1109, 0.1211, 0.0865, 0.0999, 0.1075, 0.0915, 0.0960,\n",
      "         0.0892],\n",
      "        [0.0996, 0.0909, 0.1169, 0.1152, 0.0909, 0.1116, 0.0985, 0.0897, 0.0949,\n",
      "         0.0920],\n",
      "        [0.0992, 0.0971, 0.1142, 0.1197, 0.0888, 0.1042, 0.1006, 0.0840, 0.0979,\n",
      "         0.0944],\n",
      "        [0.0950, 0.0980, 0.1176, 0.1206, 0.0962, 0.1035, 0.0977, 0.0850, 0.0947,\n",
      "         0.0917],\n",
      "        [0.1008, 0.1024, 0.1102, 0.1118, 0.0916, 0.1012, 0.1032, 0.0900, 0.0941,\n",
      "         0.0946],\n",
      "        [0.1040, 0.0972, 0.1166, 0.1244, 0.0885, 0.0986, 0.1025, 0.0870, 0.0933,\n",
      "         0.0880],\n",
      "        [0.0970, 0.1026, 0.1124, 0.1128, 0.0882, 0.1111, 0.1024, 0.0888, 0.0926,\n",
      "         0.0921],\n",
      "        [0.0961, 0.0933, 0.1204, 0.1165, 0.0955, 0.1028, 0.0976, 0.0898, 0.0968,\n",
      "         0.0912],\n",
      "        [0.1018, 0.0896, 0.1112, 0.1174, 0.0952, 0.0996, 0.1125, 0.0874, 0.0960,\n",
      "         0.0894],\n",
      "        [0.0981, 0.0950, 0.1171, 0.1267, 0.0906, 0.1009, 0.1051, 0.0923, 0.0879,\n",
      "         0.0863],\n",
      "        [0.1011, 0.0824, 0.1214, 0.1199, 0.0909, 0.1049, 0.1036, 0.0843, 0.0991,\n",
      "         0.0923],\n",
      "        [0.0956, 0.0873, 0.1133, 0.1189, 0.0962, 0.1130, 0.1014, 0.0877, 0.0909,\n",
      "         0.0959],\n",
      "        [0.1058, 0.0886, 0.1124, 0.1195, 0.0871, 0.1085, 0.1018, 0.0852, 0.0968,\n",
      "         0.0943],\n",
      "        [0.1001, 0.0947, 0.1213, 0.1202, 0.0900, 0.1033, 0.1014, 0.0900, 0.0911,\n",
      "         0.0878],\n",
      "        [0.0983, 0.0982, 0.1149, 0.1174, 0.0915, 0.1003, 0.1050, 0.0864, 0.0964,\n",
      "         0.0917],\n",
      "        [0.1002, 0.0912, 0.1111, 0.1155, 0.0906, 0.1008, 0.1101, 0.0869, 0.1010,\n",
      "         0.0925]], grad_fn=<ExpBackward0>)\n"
     ]
    }
   ],
   "source": [
    "model = Classifier()\n",
    "\n",
    "images, labels = next(iter(testloader))\n",
    "print(images.shape, labels.shape)\n",
    "print(labels[1])\n",
    "# Get the class probabilities\n",
    "ps = torch.exp(model(images))\n",
    "\n",
    "# Make sure the shape is appropriate, we should get 10 class probabilities for 64 examples\n",
    "print(ps)"
   ]
  },
  {
   "cell_type": "markdown",
   "metadata": {},
   "source": [
    "With the probabilities, we can get the most likely class using the `ps.topk` method. This returns the $k$ highest values. Since we just want the most likely class, we can use `ps.topk(1)`. This returns a tuple of the top-$k$ values and the top-$k$ indices. If the highest value is the fifth element, we'll get back 4 as the index."
   ]
  },
  {
   "cell_type": "code",
   "execution_count": 5,
   "metadata": {},
   "outputs": [
    {
     "name": "stdout",
     "output_type": "stream",
     "text": [
      "torch.Size([64, 1]) \n",
      "\n",
      " torch.Size([64, 1])\n",
      "\n",
      "\n",
      "\n",
      "tensor([[3],\n",
      "        [3],\n",
      "        [3],\n",
      "        [3],\n",
      "        [3]])\n",
      "tensor([[0.1190],\n",
      "        [0.1234],\n",
      "        [0.1160],\n",
      "        [0.1132],\n",
      "        [0.1282]], grad_fn=<SliceBackward0>)\n",
      "tensor([0.1164, 0.1172, 0.1203, 0.1150, 0.1190, 0.1190, 0.1234, 0.1160, 0.1132,\n",
      "        0.1282, 0.1185, 0.1197, 0.1218, 0.1210, 0.1210, 0.1218, 0.1294, 0.1187,\n",
      "        0.1200, 0.1228, 0.1229, 0.1215, 0.1155, 0.1191, 0.1142, 0.1192, 0.1211,\n",
      "        0.1152, 0.1219, 0.1200, 0.1217, 0.1188, 0.1212, 0.1214, 0.1239, 0.1165,\n",
      "        0.1193, 0.1210, 0.1188, 0.1196, 0.1239, 0.1292, 0.1203, 0.1164, 0.1206,\n",
      "        0.1207, 0.1159, 0.1242, 0.1211, 0.1169, 0.1197, 0.1206, 0.1118, 0.1244,\n",
      "        0.1128, 0.1204, 0.1174, 0.1267, 0.1214, 0.1189, 0.1195, 0.1213, 0.1174,\n",
      "        0.1155], grad_fn=<SelectBackward0>)\n",
      "tensor([3, 3, 3, 2, 2, 3, 3, 3, 3, 3, 2, 3, 3, 3, 3, 3, 3, 3, 3, 3, 3, 3, 2, 3,\n",
      "        3, 3, 3, 3, 3, 3, 3, 3, 3, 3, 3, 2, 2, 3, 3, 3, 3, 3, 3, 2, 3, 3, 3, 3,\n",
      "        3, 2, 3, 3, 3, 3, 3, 2, 3, 3, 2, 3, 3, 2, 3, 3])\n"
     ]
    }
   ],
   "source": [
    "# topk returns a tuple where first element is the top k values and second element is the indices of those values\n",
    "top_value, top_position = ps.topk(1, dim=1)\n",
    "print(top_position.shape,'\\n\\n',top_value.shape)\n",
    "print('\\n\\n')\n",
    "# print(top_position[:,9])\n",
    "# print(top_position[:,0])\n",
    "print(top_position[5:10])\n",
    "print(top_value[5:10])\n",
    "print(top_value[:, 0])  # this is the most likely class for each example\n",
    "# Look at the most likely classes for the first 10 examples\n",
    "# pytorch corrects itself to max length of the examples\n",
    "# tensor of lenght 10 and width 3\n",
    "print(top_position.sum(dim=1))  # sum of the most likely classes for each example\n"
   ]
  },
  {
   "cell_type": "markdown",
   "metadata": {},
   "source": [
    "Now we can check if the predicted classes match the labels. This is simple to do by equating `top_class` and `labels`, but we have to be careful of the shapes. Here `top_class` is a 2D tensor with shape `(64, 1)` while `labels` is 1D with shape `(64)`. To get the equality to work out the way we want, `top_class` and `labels` must have the same shape.\n",
    "\n",
    "If we do\n",
    "\n",
    "```python\n",
    "equals = top_class == labels\n",
    "```\n",
    "\n",
    "`equals` will have shape `(64, 64)`, try it yourself. What it's doing is comparing the one element in each row of `top_class` with each element in `labels` which returns 64 True/False boolean values for each row. To avoid this, we use the `.view` method on `labels` to turn it into the same shape as `top_class`. (The `*top_class.shape` unpacks the shape values, so in this case it's the same as writing `labels.view(64, 1)`)."
   ]
  },
  {
   "cell_type": "code",
   "execution_count": 6,
   "metadata": {},
   "outputs": [
    {
     "name": "stdout",
     "output_type": "stream",
     "text": [
      "tensor(8)\n"
     ]
    }
   ],
   "source": [
    "\n",
    "equals = top_position == labels.view(64,-1)\n",
    "equals = equals.type(torch.IntTensor)# convert to int for easier printing\n",
    "equals.dtype\n",
    "print(equals.sum())  # count how many examples were classified correctly"
   ]
  },
  {
   "cell_type": "markdown",
   "metadata": {},
   "source": [
    "Now we need to calculate the percentage of correct predictions. `equals` has binary values, either 0 or 1. This means that if we just sum up all the values and divide by the number of values, we get the percentage of correct predictions. This is the same operation as taking the mean, so we can get the accuracy with a call to `torch.mean`. If only it was that simple. If you try `torch.mean(equals)`, you'll get an error\n",
    "\n",
    "```\n",
    "RuntimeError: mean is not implemented for type torch.ByteTensor\n",
    "```\n",
    "\n",
    "This happens because `equals` has type `torch.ByteTensor` but `torch.mean` isn't implemented for tensors with that type. So we'll need to convert `equals` to a float tensor. Note that when we take `torch.mean` it returns a scalar tensor, to get the actual value as a float we'll need to do `accuracy.item()`."
   ]
  },
  {
   "cell_type": "code",
   "execution_count": 7,
   "metadata": {},
   "outputs": [
    {
     "name": "stdout",
     "output_type": "stream",
     "text": [
      "Accuracy: 12.5%\n"
     ]
    }
   ],
   "source": [
    "accuracy = torch.sum(equals)/torch.numel(equals)\n",
    "print(f\"Accuracy: {accuracy * 100}%\")"
   ]
  },
  {
   "cell_type": "markdown",
   "metadata": {},
   "source": [
    "The network is untrained so it's making random guesses and we should see an accuracy around 10%. Now let's train our network and include our validation pass so we can measure how well the network is performing on the test set. Since we're not updating our parameters in the validation pass, we can speed up our code by turning off gradients using `torch.no_grad()`:\n",
    "\n",
    "```python\n",
    "# turn off gradients\n",
    "with torch.no_grad():\n",
    "    # validation pass here\n",
    "    for images, labels in testloader:\n",
    "        ...\n",
    "```\n",
    "\n",
    ">**Exercise:** Implement the validation loop below and print out the total accuracy after the loop. You can largely copy and paste the code from above, but I suggest typing it in because writing it out yourself is essential for building the skill. In general you'll always learn more by typing it rather than copy-pasting. You should be able to get an accuracy above 80%."
   ]
  },
  {
   "cell_type": "code",
   "execution_count": 8,
   "metadata": {},
   "outputs": [
    {
     "name": "stdout",
     "output_type": "stream",
     "text": [
      "Epoch: 1/30.. Training Loss: 59.637\n",
      "Epoch: 1/30.. Test loss: 47.006.. \n",
      "Epoch: 2/30.. Training Loss: 48.291\n",
      "Epoch: 2/30.. Test loss: 43.907.. \n",
      "Epoch: 3/30.. Training Loss: 45.002\n",
      "Epoch: 3/30.. Test loss: 41.185.. \n",
      "Epoch: 4/30.. Training Loss: 42.847\n",
      "Epoch: 4/30.. Test loss: 41.294.. \n",
      "Epoch: 5/30.. Training Loss: 41.357\n",
      "Epoch: 5/30.. Test loss: 40.267.. \n",
      "Epoch: 6/30.. Training Loss: 41.143\n",
      "Epoch: 6/30.. Test loss: 40.374.. \n",
      "Epoch: 7/30.. Training Loss: 40.293\n",
      "Epoch: 7/30.. Test loss: 39.213.. \n",
      "Epoch: 8/30.. Training Loss: 39.733\n",
      "Epoch: 8/30.. Test loss: 40.261.. \n",
      "Epoch: 9/30.. Training Loss: 39.192\n",
      "Epoch: 9/30.. Test loss: 39.125.. \n",
      "Epoch: 10/30.. Training Loss: 38.659\n",
      "Epoch: 10/30.. Test loss: 39.762.. \n",
      "Epoch: 11/30.. Training Loss: 38.733\n",
      "Epoch: 11/30.. Test loss: 39.341.. \n",
      "Epoch: 12/30.. Training Loss: 37.834\n",
      "Epoch: 12/30.. Test loss: 38.236.. \n",
      "Epoch: 13/30.. Training Loss: 37.720\n",
      "Epoch: 13/30.. Test loss: 39.146.. \n",
      "Epoch: 14/30.. Training Loss: 37.657\n",
      "Epoch: 14/30.. Test loss: 38.793.. \n",
      "Epoch: 15/30.. Training Loss: 37.176\n",
      "Epoch: 15/30.. Test loss: 38.971.. \n",
      "Epoch: 16/30.. Training Loss: 36.411\n",
      "Epoch: 16/30.. Test loss: 38.255.. \n",
      "Epoch: 17/30.. Training Loss: 37.300\n",
      "Epoch: 17/30.. Test loss: 39.501.. \n",
      "Epoch: 18/30.. Training Loss: 36.723\n",
      "Epoch: 18/30.. Test loss: 38.770.. \n",
      "Epoch: 19/30.. Training Loss: 36.185\n",
      "Epoch: 19/30.. Test loss: 37.104.. \n",
      "Epoch: 20/30.. Training Loss: 36.494\n",
      "Epoch: 20/30.. Test loss: 39.537.. \n",
      "Epoch: 21/30.. Training Loss: 35.373\n",
      "Epoch: 21/30.. Test loss: 37.724.. \n",
      "Epoch: 22/30.. Training Loss: 35.775\n",
      "Epoch: 22/30.. Test loss: 39.986.. \n",
      "Epoch: 23/30.. Training Loss: 35.540\n",
      "Epoch: 23/30.. Test loss: 39.900.. \n",
      "Epoch: 24/30.. Training Loss: 35.293\n",
      "Epoch: 24/30.. Test loss: 39.360.. \n",
      "Epoch: 25/30.. Training Loss: 34.915\n",
      "Epoch: 25/30.. Test loss: 37.952.. \n",
      "Epoch: 26/30.. Training Loss: 34.009\n",
      "Epoch: 26/30.. Test loss: 37.526.. \n",
      "Epoch: 27/30.. Training Loss: 34.385\n",
      "Epoch: 27/30.. Test loss: 36.640.. \n",
      "Epoch: 28/30.. Training Loss: 35.945\n",
      "Epoch: 28/30.. Test loss: 38.284.. \n",
      "Epoch: 29/30.. Training Loss: 34.464\n",
      "Epoch: 29/30.. Test loss: 36.483.. \n",
      "Epoch: 30/30.. Training Loss: 33.411\n",
      "Epoch: 30/30.. Test loss: 37.412.. \n"
     ]
    }
   ],
   "source": [
    "model = Classifier()\n",
    "criterion = nn.NLLLoss() #batch average loss\n",
    "optimizer = optim.Adam(model.parameters(), lr=0.003)\n",
    "\n",
    "epochs = 30\n",
    "train_loss=[]\n",
    "test_loss=[]\n",
    "for _ in range(epochs):\n",
    "    model.train()\n",
    "    running_loss = 0\n",
    "    for images, labels in trainloader:\n",
    "        optimizer.zero_grad()\n",
    "\n",
    "        log_ps = model(images)\n",
    "        loss = criterion(log_ps, labels)\n",
    "        # print(loss.item())\n",
    "        loss.backward()\n",
    "        optimizer.step()\n",
    "        # print(loss.item())\n",
    "        running_loss += loss.item()\n",
    "    train_loss_epoch = running_loss / len(trainloader) \n",
    "    train_loss.append(train_loss_epoch)\n",
    "    print(f\"Epoch: {_+1}/{epochs}.. \"\n",
    "          f\"Training Loss: {(train_loss_epoch)*100:.3f}\")\n",
    "    \n",
    "    model.eval()  # set the model to evaluation mode\n",
    "    test_losss = 0\n",
    "    with torch.no_grad():\n",
    "        for images, labels in testloader:\n",
    "            log_ps = model(images)\n",
    "            loss = criterion(log_ps, labels) # loss for each batch\n",
    "            test_losss += loss.item()\n",
    "\n",
    "        test_loss_epoch = (test_losss / len(testloader)) #for complete dataset\n",
    "        test_loss.append(test_loss_epoch)\n",
    "        print(f\"Epoch: {_+1}/{epochs}.. \"\n",
    "                f\"Test loss: {(test_loss_epoch)*100:.3f}.. \")\n",
    "        \n",
    "\n"
   ]
  },
  {
   "cell_type": "code",
   "execution_count": null,
   "metadata": {},
   "outputs": [],
   "source": []
  },
  {
   "cell_type": "code",
   "execution_count": null,
   "metadata": {},
   "outputs": [],
   "source": []
  },
  {
   "cell_type": "code",
   "execution_count": 14,
   "metadata": {},
   "outputs": [
    {
     "data": {
      "image/png": "[encoded data removed]",
      "text/plain": [
       "<Figure size 640x480 with 1 Axes>"
      ]
     },
     "metadata": {},
     "output_type": "display_data"
    }
   ],
   "source": [
    "plt.plot(train_loss, label='Train Loss')\n",
    "plt.plot(test_loss, label='Test Loss')\n",
    "plt.xlabel('Epochs')\n",
    "plt.ylabel('Loss')\n",
    "plt.title('Training and Test Loss')\n",
    "plt.legend()\n",
    "plt.show()\n"
   ]
  },
  {
   "cell_type": "code",
   "execution_count": null,
   "metadata": {},
   "outputs": [],
   "source": []
  },
  {
   "cell_type": "code",
   "execution_count": null,
   "metadata": {},
   "outputs": [],
   "source": []
  },
  {
   "cell_type": "markdown",
   "metadata": {},
   "source": [
    "## Overfitting\n",
    "\n",
    "If we look at the training and validation losses as we train the network, we can see a phenomenon known as overfitting.\n",
    "\n",
    "<img src='assets/overfitting.png' width=450px>\n",
    "\n",
    "The network learns the training set better and better, resulting in lower training losses. However, it starts having problems generalizing to data outside the training set leading to the validation loss increasing. The ultimate goal of any deep learning model is to make predictions on new data, so we should strive to get the lowest validation loss possible. One option is to use the version of the model with the lowest validation loss, here the one around 8-10 training epochs. This strategy is called *early-stopping*. In practice, you'd save the model frequently as you're training then later choose the model with the lowest validation loss.\n",
    "\n",
    "The most common method to reduce overfitting (outside of early-stopping) is *dropout*, where we randomly drop input units. This forces the network to share information between weights, increasing it's ability to generalize to new data. Adding dropout in PyTorch is straightforward using the [`nn.Dropout`](https://pytorch.org/docs/stable/nn.html#torch.nn.Dropout) module.\n",
    "\n",
    "```python\n",
    "class Classifier(nn.Module):\n",
    "    \"\"\"Classifier network with dropout.\"\"\"\n",
    "    def __init__(self):\n",
    "        super().__init__()\n",
    "        self.fc1 = nn.Linear(784, 256)\n",
    "        self.fc2 = nn.Linear(256, 128)\n",
    "        self.fc3 = nn.Linear(128, 64)\n",
    "        self.fc4 = nn.Linear(64, 10)\n",
    "        \n",
    "        # Dropout module with 0.2 drop probability\n",
    "        self.dropout = nn.Dropout(p=0.2)\n",
    "        \n",
    "    def forward(self, x):\n",
    "        \"\"\" Forward pass through the network, returns the output logits.\"\"\"\n",
    "        # make sure input tensor is flattened\n",
    "        x = x.view(x.shape[0], -1)\n",
    "        \n",
    "        # Now with dropout\n",
    "        x = self.dropout(F.relu(self.fc1(x)))\n",
    "        x = self.dropout(F.relu(self.fc2(x)))\n",
    "        x = self.dropout(F.relu(self.fc3(x)))\n",
    "        \n",
    "        # output so no dropout here\n",
    "        x = F.log_softmax(self.fc4(x), dim=1)\n",
    "        \n",
    "        return x\n",
    "```\n",
    "\n",
    "During training we want to use dropout to prevent overfitting, but during inference we want to use the entire network. So, we need to turn off dropout during validation, testing, and whenever we're using the network to make predictions. To do this, you use `model.eval()`. This sets the model to evaluation mode where the dropout probability is 0. You can turn dropout back on by setting the model to train mode with `model.train()`. In general, the pattern for the validation loop will look like this, where you turn off gradients, set the model to evaluation mode, calculate the validation loss and metric, then set the model back to train mode.\n",
    "\n",
    "```python\n",
    "# turn off gradients\n",
    "with torch.no_grad():\n",
    "    \n",
    "    # set model to evaluation mode\n",
    "    model.eval()\n",
    "    \n",
    "    # validation pass here\n",
    "    for images, labels in testloader:\n",
    "        ...\n",
    "\n",
    "# set model back to train mode\n",
    "model.train()\n",
    "```"
   ]
  },
  {
   "cell_type": "markdown",
   "metadata": {},
   "source": [
    "> **Exercise:** Add dropout to your model and train it on Fashion-MNIST again. See if you can get a lower validation loss or higher accuracy."
   ]
  },
  {
   "cell_type": "code",
   "execution_count": 10,
   "metadata": {},
   "outputs": [],
   "source": [
    "## TODO: Define your model with dropout added"
   ]
  },
  {
   "cell_type": "code",
   "execution_count": 11,
   "metadata": {},
   "outputs": [],
   "source": [
    "## TODO: Train your model with dropout, and monitor the training progress with the validation loss and accuracy"
   ]
  },
  {
   "cell_type": "markdown",
   "metadata": {},
   "source": [
    "## Inference\n",
    "\n",
    "Now that the model is trained, we can use it for inference. We've done this before, but now we need to remember to set the model in inference mode with `model.eval()`. You'll also want to turn off autograd with the `torch.no_grad()` context."
   ]
  },
  {
   "cell_type": "code",
   "execution_count": 18,
   "metadata": {},
   "outputs": [
    {
     "data": {
      "image/png": "[encoded data removed]",
      "text/plain": [
       "<Figure size 600x900 with 2 Axes>"
      ]
     },
     "metadata": {},
     "output_type": "display_data"
    }
   ],
   "source": [
    "# Import helper module (should be in the repo)\n",
    "import helper\n",
    "\n",
    "# Test out your network!\n",
    "\n",
    "model.eval()\n",
    "\n",
    "dataiter = iter(testloader)\n",
    "images, labels = next(dataiter)\n",
    "img = images[63]\n",
    "# Convert 2D image to 1D vector\n",
    "img = img.view(1, 784)\n",
    "\n",
    "# Calculate the class probabilities (softmax) for img\n",
    "with torch.no_grad():\n",
    "    output = model.forward(img)\n",
    "\n",
    "ps = torch.exp(output)\n",
    "\n",
    "# Plot the image and probabilities\n",
    "helper.view_classify(img.view(1, 28, 28), ps, version=\"Fashion\")"
   ]
  },
  {
   "cell_type": "code",
   "execution_count": 13,
   "metadata": {},
   "outputs": [
    {
     "name": "stdout",
     "output_type": "stream",
     "text": [
      "tensor([[ 2,  2,  2,  2],\n",
      "        [ 4,  7,  9, 29]])\n",
      "tensor([[ 2,  2],\n",
      "        [29,  9]])\n",
      "tensor([[0, 1],\n",
      "        [3, 2]])\n"
     ]
    }
   ],
   "source": [
    "y= torch.tensor([[2,2,2,2],[4,7,9,29]])\n",
    "print(y)\n",
    "a,b = y.topk(2, dim=1)\n",
    "# prints the top 2 value in the decresing order\n",
    "print(a)\n",
    "# print the indices corresponding to the whatever value is given in the original dataset\n",
    "print(b)"
   ]
  },
  {
   "cell_type": "code",
   "execution_count": null,
   "metadata": {},
   "outputs": [],
   "source": []
  },
  {
   "cell_type": "code",
   "execution_count": null,
   "metadata": {},
   "outputs": [],
   "source": []
  },
  {
   "cell_type": "markdown",
   "metadata": {},
   "source": [
    "## Next Up!\n",
    "\n",
    "In the next part, I'll show you how to save your trained models. In general, you won't want to train a model every time you need it. Instead, you'll train once, save it, then load the model when you want to train more or use if for inference."
   ]
  }
 ],
 "metadata": {
  "kernelspec": {
   "display_name": "ml_opers_env",
   "language": "python",
   "name": "python3"
  },
  "language_info": {
   "codemirror_mode": {
    "name": "ipython",
    "version": 3
   },
   "file_extension": ".py",
   "mimetype": "text/x-python",
   "name": "python",
   "nbconvert_exporter": "python",
   "pygments_lexer": "ipython3",
   "version": "3.11.11"
  }
 },
 "nbformat": 4,
 "nbformat_minor": 2
}
